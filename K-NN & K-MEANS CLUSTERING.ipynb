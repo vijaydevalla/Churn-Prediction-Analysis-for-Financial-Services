{
 "cells": [
  {
   "cell_type": "markdown",
   "metadata": {
    "id": "cuGHzdLHYa3f"
   },
   "source": [
    "## Data Preparation"
   ]
  },
  {
   "cell_type": "code",
   "execution_count": 16,
   "metadata": {
    "id": "hppI2gW3U28e"
   },
   "outputs": [],
   "source": [
    "# Import necessary libraries\n",
    "import pandas as pd\n",
    "from sklearn.model_selection import train_test_split\n",
    "from sklearn.preprocessing import StandardScaler\n",
    "from sklearn.neighbors import KNeighborsClassifier\n",
    "from sklearn.metrics import accuracy_score, classification_report\n",
    "\n",
    "# Load the dataset\n",
    "df = pd.read_csv(\"/content/Churn_Modelling.csv\")"
   ]
  },
  {
   "cell_type": "code",
   "execution_count": 17,
   "metadata": {
    "id": "_WT9TSuZXvsJ"
   },
   "outputs": [],
   "source": [
    "# Remove dollar sign and convert 'Balance' to numeric\n",
    "df['Balance'] = df['Balance'].replace('[\\$,]', '', regex=True).astype(float)\n",
    "\n",
    "\n",
    "# Remove dollar sign and commas, and convert 'EstimatedSalary' to numeric\n",
    "df['EstimatedSalary'] = df['EstimatedSalary'].replace('[\\$,]', '', regex=True).astype(float)\n",
    "\n",
    "\n",
    "\n",
    "\n",
    "\n"
   ]
  },
  {
   "cell_type": "markdown",
   "metadata": {
    "id": "J1MzWY3IYRSg"
   },
   "source": [
    "##  K-NN:"
   ]
  },
  {
   "cell_type": "code",
   "execution_count": 18,
   "metadata": {
    "colab": {
     "base_uri": "https://localhost:8080/"
    },
    "id": "QsoEKqPdXkQw",
    "outputId": "1284fdec-44ba-490b-ac57-eb40034c506a"
   },
   "outputs": [
    {
     "name": "stdout",
     "output_type": "stream",
     "text": [
      "K-NN Accuracy: 0.844\n",
      "Classification Report:\n",
      "              precision    recall  f1-score   support\n",
      "\n",
      "           0       0.87      0.95      0.91      1607\n",
      "           1       0.66      0.42      0.52       393\n",
      "\n",
      "    accuracy                           0.84      2000\n",
      "   macro avg       0.77      0.69      0.71      2000\n",
      "weighted avg       0.83      0.84      0.83      2000\n",
      "\n"
     ]
    }
   ],
   "source": [
    "# Select relevant features (including 'Geography') and target variable\n",
    "X = df[['CreditScore', 'Age', 'Tenure', 'Balance', 'NumOfProducts', 'HasCrCard', 'IsActiveMember', 'EstimatedSalary', 'Geography']]\n",
    "y = df['Exited']\n",
    "\n",
    "# Perform one-hot encoding for 'Geography'\n",
    "X = pd.get_dummies(X, columns=['Geography'], drop_first=True)\n",
    "\n",
    "# Split the data into training and testing sets\n",
    "X_train, X_test, y_train, y_test = train_test_split(X, y, test_size=0.2, random_state=42)\n",
    "\n",
    "# Standardize the features\n",
    "scaler = StandardScaler()\n",
    "X_train = scaler.fit_transform(X_train)\n",
    "X_test = scaler.transform(X_test)\n",
    "\n",
    "# Build the K-NN model\n",
    "knn_model = KNeighborsClassifier(n_neighbors=5)\n",
    "knn_model.fit(X_train, y_train)\n",
    "\n",
    "# Make predictions on the test set\n",
    "y_pred = knn_model.predict(X_test)\n",
    "\n",
    "# Evaluate the model\n",
    "accuracy = accuracy_score(y_test, y_pred)\n",
    "report = classification_report(y_test, y_pred)\n",
    "\n",
    "# Print results\n",
    "print(f\"K-NN Accuracy: {accuracy}\")\n",
    "print(\"Classification Report:\")\n",
    "print(report)\n"
   ]
  },
  {
   "cell_type": "markdown",
   "metadata": {
    "id": "1spLuTLvX_8f"
   },
   "source": [
    "## K-NN Hyperparameter Tuning:"
   ]
  },
  {
   "cell_type": "code",
   "execution_count": 19,
   "metadata": {
    "colab": {
     "base_uri": "https://localhost:8080/"
    },
    "id": "42Lq9Zd0YDdd",
    "outputId": "ddd9b270-9e5a-494c-85b4-ee99f15df484"
   },
   "outputs": [
    {
     "name": "stdout",
     "output_type": "stream",
     "text": [
      "Best K-NN Parameters: {'n_neighbors': 7, 'p': 2, 'weights': 'distance'}\n",
      "Best K-NN Accuracy: 0.846\n",
      "Classification Report for Best K-NN Model:\n",
      "              precision    recall  f1-score   support\n",
      "\n",
      "           0       0.87      0.95      0.91      1607\n",
      "           1       0.67      0.42      0.52       393\n",
      "\n",
      "    accuracy                           0.85      2000\n",
      "   macro avg       0.77      0.69      0.71      2000\n",
      "weighted avg       0.83      0.85      0.83      2000\n",
      "\n"
     ]
    }
   ],
   "source": [
    "from sklearn.model_selection import GridSearchCV\n",
    "\n",
    "# Define the parameter grid\n",
    "param_grid = {'n_neighbors': [3, 5, 7, 9],\n",
    "              'weights': ['uniform', 'distance'],\n",
    "              'p': [1, 2]}\n",
    "\n",
    "# Create a K-NN classifier\n",
    "knn = KNeighborsClassifier()\n",
    "\n",
    "# Perform grid search with cross-validation\n",
    "grid_search = GridSearchCV(knn, param_grid, cv=5, scoring='accuracy')\n",
    "grid_search.fit(X_train, y_train)\n",
    "\n",
    "# Get the best parameters\n",
    "best_params = grid_search.best_params_\n",
    "\n",
    "# Build the best K-NN model\n",
    "best_knn_model = grid_search.best_estimator_\n",
    "\n",
    "# Make predictions on the test set using the best model\n",
    "y_pred_best = best_knn_model.predict(X_test)\n",
    "\n",
    "# Evaluate the best model\n",
    "accuracy_best = accuracy_score(y_test, y_pred_best)\n",
    "report_best = classification_report(y_test, y_pred_best)\n",
    "\n",
    "# Print results\n",
    "print(f\"Best K-NN Parameters: {best_params}\")\n",
    "print(f\"Best K-NN Accuracy: {accuracy_best}\")\n",
    "print(\"Classification Report for Best K-NN Model:\")\n",
    "print(report_best)\n"
   ]
  },
  {
   "cell_type": "markdown",
   "metadata": {
    "id": "-GdXt77NYJhD"
   },
   "source": [
    "## K-Means Clustering:"
   ]
  },
  {
   "cell_type": "code",
   "execution_count": 20,
   "metadata": {
    "colab": {
     "base_uri": "https://localhost:8080/"
    },
    "id": "glPACH4BYMLU",
    "outputId": "caa58407-4e10-4653-ee9c-bec9f6aa06a0"
   },
   "outputs": [
    {
     "name": "stderr",
     "output_type": "stream",
     "text": [
      "/usr/local/lib/python3.10/dist-packages/sklearn/cluster/_kmeans.py:870: FutureWarning: The default value of `n_init` will change from 10 to 'auto' in 1.4. Set the value of `n_init` explicitly to suppress the warning\n",
      "  warnings.warn(\n"
     ]
    },
    {
     "name": "stdout",
     "output_type": "stream",
     "text": [
      "           RowNumber    CustomerId  CreditScore        Age    Tenure  \\\n",
      "Cluster                                                                \n",
      "0        4983.229127  1.568909e+07   650.382678  39.457774  4.978167   \n",
      "1        5024.857260  1.569209e+07   649.554039  38.375000  5.063046   \n",
      "2        4992.538745  1.569256e+07   652.457103  38.815498  4.994465   \n",
      "\n",
      "               Balance  NumOfProducts  HasCrCard  IsActiveMember  \\\n",
      "Cluster                                                            \n",
      "0        120139.112601       1.000000   0.699136        0.509837   \n",
      "1           752.769795       1.776747   0.715884        0.518559   \n",
      "2        120553.931287       2.132841   0.700185        0.519373   \n",
      "\n",
      "         EstimatedSalary    Exited  \n",
      "Cluster                             \n",
      "0           99710.180837  0.255758  \n",
      "1           98686.417102  0.135917  \n",
      "2          103193.419197  0.218173  \n"
     ]
    },
    {
     "name": "stderr",
     "output_type": "stream",
     "text": [
      "<ipython-input-20-05e8c8a0154f>:18: FutureWarning: The default value of numeric_only in DataFrameGroupBy.mean is deprecated. In a future version, numeric_only will default to False. Either specify numeric_only or select only columns which should be valid for the function.\n",
      "  cluster_characteristics = df.groupby('Cluster').mean()\n"
     ]
    }
   ],
   "source": [
    "from sklearn.cluster import KMeans\n",
    "\n",
    "# Select features for clustering\n",
    "X_cluster = df[['CreditScore', 'Age', 'Balance', 'NumOfProducts', 'EstimatedSalary']]\n",
    "\n",
    "# Standardize the features for clustering\n",
    "scaler_cluster = StandardScaler()\n",
    "X_cluster_scaled = scaler_cluster.fit_transform(X_cluster)\n",
    "\n",
    "# Choose the number of clusters (you can adjust this based on your analysis)\n",
    "num_clusters = 3\n",
    "\n",
    "# Build the K-Means clustering model\n",
    "kmeans = KMeans(n_clusters=num_clusters, random_state=42)\n",
    "df['Cluster'] = kmeans.fit_predict(X_cluster_scaled)\n",
    "\n",
    "# Explore the characteristics of each cluster\n",
    "cluster_characteristics = df.groupby('Cluster').mean()\n",
    "\n",
    "# Print the cluster characteristics\n",
    "print(cluster_characteristics)\n"
   ]
  },
  {
   "cell_type": "code",
   "execution_count": 21,
   "metadata": {
    "colab": {
     "base_uri": "https://localhost:8080/"
    },
    "id": "hYA2yg9z1ASd",
    "outputId": "3a415bb3-2b76-4771-9c94-2602af270810"
   },
   "outputs": [
    {
     "name": "stdout",
     "output_type": "stream",
     "text": [
      "Inertia: 34999.87224228427\n"
     ]
    }
   ],
   "source": [
    "# Assuming kmeans is your KMeans model\n",
    "inertia = kmeans.inertia_\n",
    "print(f\"Inertia: {inertia}\")\n"
   ]
  },
  {
   "cell_type": "code",
   "execution_count": 22,
   "metadata": {
    "colab": {
     "base_uri": "https://localhost:8080/"
    },
    "id": "nbMzZFgh1EMy",
    "outputId": "6da3a8b2-5009-41e9-81df-35e52965e860"
   },
   "outputs": [
    {
     "name": "stdout",
     "output_type": "stream",
     "text": [
      "Silhouette Score: 0.2078368231781088\n"
     ]
    }
   ],
   "source": [
    "from sklearn.metrics import silhouette_score\n",
    "\n",
    "# Assuming X_cluster_scaled is your standardized feature matrix\n",
    "silhouette_avg = silhouette_score(X_cluster_scaled, kmeans.labels_)\n",
    "print(f\"Silhouette Score: {silhouette_avg}\")\n"
   ]
  }
 ],
 "metadata": {
  "colab": {
   "provenance": []
  },
  "kernelspec": {
   "display_name": "Python 3 (ipykernel)",
   "language": "python",
   "name": "python3"
  },
  "language_info": {
   "codemirror_mode": {
    "name": "ipython",
    "version": 3
   },
   "file_extension": ".py",
   "mimetype": "text/x-python",
   "name": "python",
   "nbconvert_exporter": "python",
   "pygments_lexer": "ipython3",
   "version": "3.11.5"
  }
 },
 "nbformat": 4,
 "nbformat_minor": 1
}
