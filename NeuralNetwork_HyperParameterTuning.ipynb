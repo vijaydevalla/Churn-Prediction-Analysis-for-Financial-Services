{
 "cells": [
  {
   "cell_type": "markdown",
   "id": "0d3dda5e",
   "metadata": {},
   "source": [
    "# Load File"
   ]
  },
  {
   "cell_type": "code",
   "execution_count": 1,
   "id": "ae71438c",
   "metadata": {},
   "outputs": [],
   "source": [
    "import pandas as pd\n",
    "#Read the CSV file 'Churn_Modelling.csv' into a DataFrame named 'df' \n",
    "df = pd.read_csv('/Users/laiminyun/CIS 508/Group Project/Churn_Modelling.csv')"
   ]
  },
  {
   "cell_type": "code",
   "execution_count": 2,
   "id": "a7d12b47",
   "metadata": {},
   "outputs": [
    {
     "data": {
      "text/html": [
       "<div>\n",
       "<style scoped>\n",
       "    .dataframe tbody tr th:only-of-type {\n",
       "        vertical-align: middle;\n",
       "    }\n",
       "\n",
       "    .dataframe tbody tr th {\n",
       "        vertical-align: top;\n",
       "    }\n",
       "\n",
       "    .dataframe thead th {\n",
       "        text-align: right;\n",
       "    }\n",
       "</style>\n",
       "<table border=\"1\" class=\"dataframe\">\n",
       "  <thead>\n",
       "    <tr style=\"text-align: right;\">\n",
       "      <th></th>\n",
       "      <th>RowNumber</th>\n",
       "      <th>CustomerId</th>\n",
       "      <th>Surname</th>\n",
       "      <th>CreditScore</th>\n",
       "      <th>Geography</th>\n",
       "      <th>Gender</th>\n",
       "      <th>Age</th>\n",
       "      <th>Tenure</th>\n",
       "      <th>Balance</th>\n",
       "      <th>NumOfProducts</th>\n",
       "      <th>HasCrCard</th>\n",
       "      <th>IsActiveMember</th>\n",
       "      <th>EstimatedSalary</th>\n",
       "      <th>Exited</th>\n",
       "    </tr>\n",
       "  </thead>\n",
       "  <tbody>\n",
       "    <tr>\n",
       "      <th>0</th>\n",
       "      <td>1</td>\n",
       "      <td>15634602</td>\n",
       "      <td>Hargrave</td>\n",
       "      <td>619</td>\n",
       "      <td>France</td>\n",
       "      <td>Female</td>\n",
       "      <td>42</td>\n",
       "      <td>2</td>\n",
       "      <td>$0.00</td>\n",
       "      <td>1</td>\n",
       "      <td>1</td>\n",
       "      <td>1</td>\n",
       "      <td>$101,348.88</td>\n",
       "      <td>1</td>\n",
       "    </tr>\n",
       "    <tr>\n",
       "      <th>1</th>\n",
       "      <td>2</td>\n",
       "      <td>15647311</td>\n",
       "      <td>Hill</td>\n",
       "      <td>608</td>\n",
       "      <td>Spain</td>\n",
       "      <td>Female</td>\n",
       "      <td>41</td>\n",
       "      <td>1</td>\n",
       "      <td>$83,807.86</td>\n",
       "      <td>1</td>\n",
       "      <td>0</td>\n",
       "      <td>1</td>\n",
       "      <td>$112,542.58</td>\n",
       "      <td>0</td>\n",
       "    </tr>\n",
       "    <tr>\n",
       "      <th>2</th>\n",
       "      <td>3</td>\n",
       "      <td>15619304</td>\n",
       "      <td>Onio</td>\n",
       "      <td>502</td>\n",
       "      <td>France</td>\n",
       "      <td>Female</td>\n",
       "      <td>42</td>\n",
       "      <td>8</td>\n",
       "      <td>$159,660.80</td>\n",
       "      <td>3</td>\n",
       "      <td>1</td>\n",
       "      <td>0</td>\n",
       "      <td>$113,931.57</td>\n",
       "      <td>1</td>\n",
       "    </tr>\n",
       "    <tr>\n",
       "      <th>3</th>\n",
       "      <td>4</td>\n",
       "      <td>15701354</td>\n",
       "      <td>Boni</td>\n",
       "      <td>699</td>\n",
       "      <td>France</td>\n",
       "      <td>Female</td>\n",
       "      <td>39</td>\n",
       "      <td>1</td>\n",
       "      <td>$0.00</td>\n",
       "      <td>2</td>\n",
       "      <td>0</td>\n",
       "      <td>0</td>\n",
       "      <td>$93,826.63</td>\n",
       "      <td>0</td>\n",
       "    </tr>\n",
       "    <tr>\n",
       "      <th>4</th>\n",
       "      <td>5</td>\n",
       "      <td>15737888</td>\n",
       "      <td>Mitchell</td>\n",
       "      <td>850</td>\n",
       "      <td>Spain</td>\n",
       "      <td>Female</td>\n",
       "      <td>43</td>\n",
       "      <td>2</td>\n",
       "      <td>$125,510.82</td>\n",
       "      <td>1</td>\n",
       "      <td>1</td>\n",
       "      <td>1</td>\n",
       "      <td>$79,084.10</td>\n",
       "      <td>0</td>\n",
       "    </tr>\n",
       "  </tbody>\n",
       "</table>\n",
       "</div>"
      ],
      "text/plain": [
       "   RowNumber  CustomerId   Surname  CreditScore Geography  Gender  Age  \\\n",
       "0          1    15634602  Hargrave          619    France  Female   42   \n",
       "1          2    15647311      Hill          608     Spain  Female   41   \n",
       "2          3    15619304      Onio          502    France  Female   42   \n",
       "3          4    15701354      Boni          699    France  Female   39   \n",
       "4          5    15737888  Mitchell          850     Spain  Female   43   \n",
       "\n",
       "   Tenure       Balance  NumOfProducts  HasCrCard  IsActiveMember  \\\n",
       "0       2        $0.00               1          1               1   \n",
       "1       1   $83,807.86               1          0               1   \n",
       "2       8  $159,660.80               3          1               0   \n",
       "3       1        $0.00               2          0               0   \n",
       "4       2  $125,510.82               1          1               1   \n",
       "\n",
       "  EstimatedSalary  Exited  \n",
       "0    $101,348.88        1  \n",
       "1    $112,542.58        0  \n",
       "2    $113,931.57        1  \n",
       "3     $93,826.63        0  \n",
       "4     $79,084.10        0  "
      ]
     },
     "execution_count": 2,
     "metadata": {},
     "output_type": "execute_result"
    }
   ],
   "source": [
    "# Show the first few rows to understand the structure and content\n",
    "df.head()"
   ]
  },
  {
   "cell_type": "code",
   "execution_count": 3,
   "id": "cd680855",
   "metadata": {},
   "outputs": [
    {
     "data": {
      "text/plain": [
       "(10000, 14)"
      ]
     },
     "execution_count": 3,
     "metadata": {},
     "output_type": "execute_result"
    }
   ],
   "source": [
    "# Drop rows where the target variable or any of the specified columns have missing values\n",
    "df = df.dropna()\n",
    "df.shape"
   ]
  },
  {
   "cell_type": "markdown",
   "id": "57c0021d",
   "metadata": {},
   "source": [
    "# Convert categorical variables to numerical variables ( 0 and 1)"
   ]
  },
  {
   "cell_type": "code",
   "execution_count": 4,
   "id": "00b0d8dd",
   "metadata": {},
   "outputs": [],
   "source": [
    "# Geography column\n",
    "unique_Geography = df['Geography'].unique()\n",
    "df = pd.get_dummies(df, columns=['Geography'], prefix='Geography')"
   ]
  },
  {
   "cell_type": "code",
   "execution_count": 5,
   "id": "bf7f4d56",
   "metadata": {},
   "outputs": [],
   "source": [
    "# EstimatedSalary Column\n",
    "# Remove currency symbols and commas\n",
    "df['EstimatedSalary'] = df['EstimatedSalary'].str.replace('[\\$,]', '', regex=True)\n",
    "\n",
    "# Convert the column to a numeric type\n",
    "df['EstimatedSalary'] = pd.to_numeric(df['EstimatedSalary'])"
   ]
  },
  {
   "cell_type": "code",
   "execution_count": 6,
   "id": "e3e3a148",
   "metadata": {},
   "outputs": [],
   "source": [
    "# Balance Column\n",
    "# Remove currency symbols and commas\n",
    "df['Balance'] = df['Balance'].str.replace('[\\$,]', '', regex=True)\n",
    "\n",
    "# Convert the column to a numeric type\n",
    "df['Balance'] = pd.to_numeric(df['Balance'])"
   ]
  },
  {
   "cell_type": "code",
   "execution_count": 7,
   "id": "31d5ff21",
   "metadata": {},
   "outputs": [],
   "source": [
    "# Assume 'RowNumber','CustomerId', 'Surname','Gender' are irrelevant features\n",
    "df.drop(['RowNumber','CustomerId', 'Surname','Gender'], axis=1, inplace=True)"
   ]
  },
  {
   "cell_type": "code",
   "execution_count": 8,
   "id": "8741ea3d",
   "metadata": {},
   "outputs": [],
   "source": [
    "# Separating the features and the target variable\n",
    "X = df.drop('Exited', axis=1)  # Features\n",
    "y = df['Exited']  # Target"
   ]
  },
  {
   "cell_type": "markdown",
   "id": "b33ab02f",
   "metadata": {},
   "source": [
    "# Modeling"
   ]
  },
  {
   "cell_type": "code",
   "execution_count": 9,
   "id": "1d8a4497",
   "metadata": {},
   "outputs": [],
   "source": [
    "from sklearn.neural_network import MLPClassifier\n",
    "from sklearn.metrics import accuracy_score\n",
    "import matplotlib.pyplot as plt\n",
    "import numpy as np\n",
    "from sklearn.preprocessing import StandardScaler, OneHotEncoder\n",
    "\n",
    "# Scaling the features\n",
    "scaler = StandardScaler()\n",
    "\n",
    "\n",
    "# Separate features and target variable for training and test sets\n",
    "X_train = df.drop(columns=['Exited'])\n",
    "y_train = df['Exited']\n",
    "\n",
    "X_test = df.drop(columns=['Exited'])\n",
    "y_test = df['Exited']"
   ]
  },
  {
   "cell_type": "markdown",
   "id": "7eabf5a9",
   "metadata": {},
   "source": [
    "# Manual Tuning"
   ]
  },
  {
   "cell_type": "code",
   "execution_count": 14,
   "id": "b32b39b0",
   "metadata": {},
   "outputs": [
    {
     "name": "stderr",
     "output_type": "stream",
     "text": [
      "/Users/laiminyun/anaconda3/lib/python3.11/site-packages/sklearn/neural_network/_multilayer_perceptron.py:691: ConvergenceWarning: Stochastic Optimizer: Maximum iterations (100) reached and the optimization hasn't converged yet.\n",
      "  warnings.warn(\n"
     ]
    },
    {
     "name": "stdout",
     "output_type": "stream",
     "text": [
      "Best Accuracy: 0.7963\n",
      "Best Parameters: {'hidden_layer_sizes': (50, 50), 'learning_rate_init': 0.01}\n"
     ]
    }
   ],
   "source": [
    "from sklearn.neural_network import MLPClassifier\n",
    "from sklearn.metrics import accuracy_score\n",
    "from sklearn.model_selection import train_test_split\n",
    "\n",
    "# Example of manual tuning\n",
    "\n",
    "# Define your range of hyperparameters\n",
    "hidden_layer_sizes = [(50,), (100,), (50, 50), (100, 100)]\n",
    "learning_rates = [0.01, 0.001, 0.0001]\n",
    "\n",
    "best_accuracy = 0\n",
    "best_params = {}\n",
    "\n",
    "for size in hidden_layer_sizes:\n",
    "    for lr in learning_rates:\n",
    "        model = MLPClassifier(hidden_layer_sizes=size, learning_rate_init=lr, max_iter=100)\n",
    "        model.fit(X_train, y_train)\n",
    "        predictions = model.predict(X_test)\n",
    "        accuracy = accuracy_score(y_test, predictions)\n",
    "\n",
    "        if accuracy > best_accuracy:\n",
    "            best_accuracy = accuracy\n",
    "            best_params = {'hidden_layer_sizes': size, 'learning_rate_init': lr}\n",
    "\n",
    "print(\"Best Accuracy:\", best_accuracy)\n",
    "print(\"Best Parameters:\", best_params)\n"
   ]
  },
  {
   "cell_type": "code",
   "execution_count": 10,
   "id": "8ee321e1",
   "metadata": {},
   "outputs": [
    {
     "name": "stderr",
     "output_type": "stream",
     "text": [
      "/Users/laiminyun/anaconda3/lib/python3.11/site-packages/sklearn/neural_network/_multilayer_perceptron.py:691: ConvergenceWarning: Stochastic Optimizer: Maximum iterations (100) reached and the optimization hasn't converged yet.\n",
      "  warnings.warn(\n",
      "/Users/laiminyun/anaconda3/lib/python3.11/site-packages/sklearn/metrics/_classification.py:1469: UndefinedMetricWarning: Precision and F-score are ill-defined and being set to 0.0 in labels with no predicted samples. Use `zero_division` parameter to control this behavior.\n",
      "  _warn_prf(average, modifier, msg_start, len(result))\n"
     ]
    },
    {
     "name": "stdout",
     "output_type": "stream",
     "text": [
      "Best Accuracy: 0.7963\n",
      "Best Precision for Class 0: 0.7963 Class 1: 0.0\n",
      "Best Recall for Class 0: 1.0 Class 1: 0.0\n",
      "Best F1-Score for Class 0: 0.8866002338139509 Class 1: 0.0\n",
      "Best Parameters: {'hidden_layer_sizes': (100, 100), 'learning_rate_init': 0.01}\n"
     ]
    }
   ],
   "source": [
    "from sklearn.neural_network import MLPClassifier\n",
    "from sklearn.metrics import accuracy_score, precision_recall_fscore_support\n",
    "from sklearn.model_selection import train_test_split\n",
    "\n",
    "# Define your range of hyperparameters\n",
    "hidden_layer_sizes = [(50,), (100,), (50, 50), (100, 100)]\n",
    "learning_rates = [0.01, 0.001, 0.0001]\n",
    "\n",
    "best_accuracy = 0\n",
    "best_precision = [0, 0]  # For class 0 and class 1\n",
    "best_recall = [0, 0]  # For class 0 and class 1\n",
    "best_f1_score = [0, 0]  # For class 0 and class 1\n",
    "best_params = {}\n",
    "\n",
    "for size in hidden_layer_sizes:\n",
    "    for lr in learning_rates:\n",
    "        model = MLPClassifier(hidden_layer_sizes=size, learning_rate_init=lr, max_iter=100)\n",
    "        model.fit(X_train, y_train)\n",
    "        predictions = model.predict(X_test)\n",
    "\n",
    "        accuracy = accuracy_score(y_test, predictions)\n",
    "        precision, recall, f1_score, _ = precision_recall_fscore_support(y_test, predictions)\n",
    "\n",
    "        if accuracy > best_accuracy:\n",
    "            best_accuracy = accuracy\n",
    "            best_precision = precision\n",
    "            best_recall = recall\n",
    "            best_f1_score = f1_score\n",
    "            best_params = {'hidden_layer_sizes': size, 'learning_rate_init': lr}\n",
    "\n",
    "print(\"Best Accuracy:\", best_accuracy)\n",
    "print(\"Best Precision for Class 0:\", best_precision[0], \"Class 1:\", best_precision[1])\n",
    "print(\"Best Recall for Class 0:\", best_recall[0], \"Class 1:\", best_recall[1])\n",
    "print(\"Best F1-Score for Class 0:\", best_f1_score[0], \"Class 1:\", best_f1_score[1])\n",
    "print(\"Best Parameters:\", best_params)\n"
   ]
  },
  {
   "cell_type": "markdown",
   "id": "017fbac0",
   "metadata": {},
   "source": [
    "# Automated Hyperparameter Tuning"
   ]
  },
  {
   "cell_type": "code",
   "execution_count": 15,
   "id": "da9bdb34",
   "metadata": {},
   "outputs": [
    {
     "name": "stderr",
     "output_type": "stream",
     "text": [
      "/Users/laiminyun/anaconda3/lib/python3.11/site-packages/sklearn/neural_network/_multilayer_perceptron.py:691: ConvergenceWarning: Stochastic Optimizer: Maximum iterations (100) reached and the optimization hasn't converged yet.\n",
      "  warnings.warn(\n",
      "/Users/laiminyun/anaconda3/lib/python3.11/site-packages/sklearn/neural_network/_multilayer_perceptron.py:691: ConvergenceWarning: Stochastic Optimizer: Maximum iterations (100) reached and the optimization hasn't converged yet.\n",
      "  warnings.warn(\n",
      "/Users/laiminyun/anaconda3/lib/python3.11/site-packages/sklearn/neural_network/_multilayer_perceptron.py:691: ConvergenceWarning: Stochastic Optimizer: Maximum iterations (100) reached and the optimization hasn't converged yet.\n",
      "  warnings.warn(\n",
      "/Users/laiminyun/anaconda3/lib/python3.11/site-packages/sklearn/neural_network/_multilayer_perceptron.py:691: ConvergenceWarning: Stochastic Optimizer: Maximum iterations (100) reached and the optimization hasn't converged yet.\n",
      "  warnings.warn(\n",
      "/Users/laiminyun/anaconda3/lib/python3.11/site-packages/sklearn/neural_network/_multilayer_perceptron.py:691: ConvergenceWarning: Stochastic Optimizer: Maximum iterations (100) reached and the optimization hasn't converged yet.\n",
      "  warnings.warn(\n"
     ]
    },
    {
     "name": "stdout",
     "output_type": "stream",
     "text": [
      "Best Parameters: {'hidden_layer_sizes': (100, 100), 'learning_rate_init': 0.01}\n",
      "Best Accuracy: 0.7962\n"
     ]
    }
   ],
   "source": [
    "from sklearn.model_selection import GridSearchCV\n",
    "\n",
    "# Define parameter grid\n",
    "param_grid = {\n",
    "    'hidden_layer_sizes': [(50,), (100,), (50, 50), (100, 100)],\n",
    "    'learning_rate_init': [0.01, 0.001, 0.0001],\n",
    "}\n",
    "\n",
    "# Initialize the grid search\n",
    "grid_search = GridSearchCV(MLPClassifier(max_iter=100), param_grid, cv=5, scoring='accuracy')\n",
    "\n",
    "# Fit grid search\n",
    "grid_search.fit(X_train, y_train)\n",
    "\n",
    "# Best parameters and best accuracy\n",
    "print(\"Best Parameters:\", grid_search.best_params_)\n",
    "print(\"Best Accuracy:\", grid_search.best_score_)\n"
   ]
  },
  {
   "cell_type": "markdown",
   "id": "981b79d5",
   "metadata": {},
   "source": [
    "# RandomizedSearch"
   ]
  },
  {
   "cell_type": "code",
   "execution_count": 16,
   "id": "5e89b799",
   "metadata": {},
   "outputs": [
    {
     "name": "stderr",
     "output_type": "stream",
     "text": [
      "/Users/laiminyun/anaconda3/lib/python3.11/site-packages/sklearn/neural_network/_multilayer_perceptron.py:691: ConvergenceWarning: Stochastic Optimizer: Maximum iterations (100) reached and the optimization hasn't converged yet.\n",
      "  warnings.warn(\n",
      "/Users/laiminyun/anaconda3/lib/python3.11/site-packages/sklearn/neural_network/_multilayer_perceptron.py:691: ConvergenceWarning: Stochastic Optimizer: Maximum iterations (100) reached and the optimization hasn't converged yet.\n",
      "  warnings.warn(\n",
      "/Users/laiminyun/anaconda3/lib/python3.11/site-packages/sklearn/neural_network/_multilayer_perceptron.py:691: ConvergenceWarning: Stochastic Optimizer: Maximum iterations (100) reached and the optimization hasn't converged yet.\n",
      "  warnings.warn(\n",
      "/Users/laiminyun/anaconda3/lib/python3.11/site-packages/sklearn/neural_network/_multilayer_perceptron.py:691: ConvergenceWarning: Stochastic Optimizer: Maximum iterations (100) reached and the optimization hasn't converged yet.\n",
      "  warnings.warn(\n"
     ]
    },
    {
     "name": "stdout",
     "output_type": "stream",
     "text": [
      "Best Parameters: {'hidden_layer_sizes': 117, 'learning_rate_init': 0.01}\n",
      "Best Accuracy: 0.7947\n"
     ]
    }
   ],
   "source": [
    "from sklearn.model_selection import RandomizedSearchCV\n",
    "from scipy.stats import randint as sp_randint\n",
    "\n",
    "# Define parameter distribution\n",
    "param_dist = {\n",
    "    'hidden_layer_sizes': sp_randint(50, 200),\n",
    "    'learning_rate_init': [0.01, 0.001, 0.0001],\n",
    "}\n",
    "\n",
    "# Initialize the randomized search\n",
    "random_search = RandomizedSearchCV(MLPClassifier(max_iter=100), param_distributions=param_dist, n_iter=10, cv=5, scoring='accuracy')\n",
    "\n",
    "# Fit randomized search\n",
    "random_search.fit(X_train, y_train)\n",
    "\n",
    "# Best parameters and best accuracy\n",
    "print(\"Best Parameters:\", random_search.best_params_)\n",
    "print(\"Best Accuracy:\", random_search.best_score_)\n"
   ]
  },
  {
   "cell_type": "markdown",
   "id": "be17b0c9",
   "metadata": {},
   "source": [
    "1. Manual Tuning <br/>\n",
    "Approach: You manually change hyperparameters and observe the impact on model performance. This process is repeated iteratively.<br/>\n",
    "\n",
    "Pros:<br/>\n",
    "Full control over the tuning process.<br/>\n",
    "Good for understanding the impact of each hyperparameter.<br/>\n",
    "Cons:<br/>\n",
    "Time-consuming and labor-intensive.<br/>\n",
    "Risk of missing the optimal combination due to limited exploration.<br/>\n",
    "<br/>\n",
    "2. GridSearchCV<br/>\n",
    "Approach: Performs an exhaustive search over a specified parameter grid. It trains the model for each combination of parameters and evaluates using cross-validation.<br/>\n",
    "\n",
    "Pros:<br/>\n",
    "Comprehensive: tests every possible combination in the grid, ensuring that the best combination is found.<br/>\n",
    "Automated: once set up, it runs without the need for manual intervention.<br/>\n",
    "Cons:<br/>\n",
    "Computationally expensive, especially with large grids or complex models.<br/>\n",
    "The grid needs to be well-defined, which might require prior knowledge or assumptions about which values are likely to be effective.<br/>\n",
    "<br/>\n",
    "3. RandomizedSearchCV<br/>\n",
    "Approach: Samples a given number of candidates from a parameter space with a specified distribution. Like GridSearch, it uses cross-validation for evaluation.<br/>\n",
    "\n",
    "Pros:<br/>\n",
    "More efficient than GridSearchCV as it doesn’t try all possible combinations, but rather a fixed number of parameter settings from the distributions specified.<br/>\n",
    "Can reach close to the best combination with significantly less computation.<br/>\n",
    "Useful when there are many hyperparameters and the best combination is unknown.<br/>\n",
    "Cons:<br/>\n",
    "Less comprehensive than GridSearchCV as it might miss the optimal parameters.<br/>\n",
    "The choice of the distribution for parameters and the number of iterations can influence the effectiveness of the search.<br/>\n",
    "<br/>\n",
    "Summary<br/>\n",
    "Manual Tuning is great for a deep understanding of each parameter's effect but is less efficient and systematic.\n",
    "GridSearchCV is the most comprehensive but can be very slow and computationally expensive.\n",
    "RandomizedSearchCV provides a good balance between thoroughness and computational efficiency, making it suitable for initial exploration, especially when the hyperparameter space is large."
   ]
  },
  {
   "cell_type": "markdown",
   "id": "9cfc1748",
   "metadata": {},
   "source": [
    "# Summary"
   ]
  },
  {
   "cell_type": "code",
   "execution_count": null,
   "id": "cd3dfb40",
   "metadata": {},
   "outputs": [],
   "source": []
  }
 ],
 "metadata": {
  "kernelspec": {
   "display_name": "Python 3 (ipykernel)",
   "language": "python",
   "name": "python3"
  },
  "language_info": {
   "codemirror_mode": {
    "name": "ipython",
    "version": 3
   },
   "file_extension": ".py",
   "mimetype": "text/x-python",
   "name": "python",
   "nbconvert_exporter": "python",
   "pygments_lexer": "ipython3",
   "version": "3.11.5"
  }
 },
 "nbformat": 4,
 "nbformat_minor": 5
}
